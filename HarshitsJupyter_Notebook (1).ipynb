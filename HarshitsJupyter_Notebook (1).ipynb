{
 "cells": [
  {
   "cell_type": "markdown",
   "metadata": {},
   "source": [
    "<center>\n",
    "    <img src=\"https://s3-api.us-geo.objectstorage.softlayer.net/cf-courses-data/CognitiveClass/Logos/organization_logo/organization_logo.png\" width=\"300\" alt=\"cognitiveclass.ai logo\"  />\n",
    "</center>\n"
   ]
  },
  {
   "cell_type": "markdown",
   "metadata": {},
   "source": [
    "#### Add your code below following the instructions given in the course\n"
   ]
  },
  {
   "cell_type": "code",
   "execution_count": 1,
   "metadata": {},
   "outputs": [
    {
     "data": {
      "text/plain": [
       "2"
      ]
     },
     "execution_count": 1,
     "metadata": {},
     "output_type": "execute_result"
    }
   ],
   "source": [
    "1+1"
   ]
  },
  {
   "cell_type": "markdown",
   "metadata": {},
   "source": [
    "2*3"
   ]
  },
  {
   "cell_type": "markdown",
   "metadata": {},
   "source": [
    "15*10"
   ]
  },
  {
   "cell_type": "markdown",
   "metadata": {},
   "source": [
    "simple calculation "
   ]
  },
  {
   "cell_type": "code",
   "execution_count": 4,
   "metadata": {},
   "outputs": [
    {
     "data": {
      "text/plain": [
       "159120"
      ]
     },
     "execution_count": 4,
     "metadata": {},
     "output_type": "execute_result"
    }
   ],
   "source": [
    "156*1020"
   ]
  },
  {
   "cell_type": "code",
   "execution_count": null,
   "metadata": {},
   "outputs": [],
   "source": []
  },
  {
   "cell_type": "code",
   "execution_count": 5,
   "metadata": {},
   "outputs": [
    {
     "name": "stdout",
     "output_type": "stream",
     "text": [
      "Collecting package metadata (current_repodata.json): done\n",
      "Solving environment: done\n",
      "\n",
      "## Package Plan ##\n",
      "\n",
      "  environment location: /home/jupyterlab/conda/envs/python\n",
      "\n",
      "  added / updated specs:\n",
      "    - jupyterlab\n",
      "\n",
      "\n",
      "The following packages will be downloaded:\n",
      "\n",
      "    package                    |            build\n",
      "    ---------------------------|-----------------\n",
      "    anyio-3.3.4                |   py37h89c1867_1         147 KB  conda-forge\n",
      "    argon2-cffi-21.1.0         |   py37h5e8e339_2          46 KB  conda-forge\n",
      "    async_generator-1.10       |             py_0          18 KB  conda-forge\n",
      "    attrs-21.2.0               |     pyhd8ed1ab_0          44 KB  conda-forge\n",
      "    babel-2.9.1                |     pyh44b312d_0         6.2 MB  conda-forge\n",
      "    bleach-4.1.0               |     pyhd8ed1ab_0         121 KB  conda-forge\n",
      "    ca-certificates-2021.10.8  |       ha878542_0         139 KB  conda-forge\n",
      "    certifi-2021.10.8          |   py37h89c1867_1         145 KB  conda-forge\n",
      "    defusedxml-0.7.1           |     pyhd8ed1ab_0          23 KB  conda-forge\n",
      "    importlib_resources-5.4.0  |     pyhd8ed1ab_0          21 KB  conda-forge\n",
      "    json5-0.9.5                |     pyh9f0ad1d_0          20 KB  conda-forge\n",
      "    jsonschema-4.2.1           |     pyhd8ed1ab_0         118 KB  conda-forge\n",
      "    jupyter_server-1.11.2      |     pyhd8ed1ab_0         257 KB  conda-forge\n",
      "    jupyterlab-3.2.4           |     pyhd8ed1ab_0         6.1 MB  conda-forge\n",
      "    jupyterlab_pygments-0.1.2  |     pyh9f0ad1d_0           8 KB  conda-forge\n",
      "    jupyterlab_server-2.8.2    |     pyhd8ed1ab_0          45 KB  conda-forge\n",
      "    mistune-0.8.4              |py37h5e8e339_1005          54 KB  conda-forge\n",
      "    nbclassic-0.3.4            |     pyhd8ed1ab_0          22 KB  conda-forge\n",
      "    nbclient-0.5.9             |     pyhd8ed1ab_0          63 KB  conda-forge\n",
      "    nbconvert-6.3.0            |   py37h89c1867_1         535 KB  conda-forge\n",
      "    nbformat-5.1.3             |     pyhd8ed1ab_0          47 KB  conda-forge\n",
      "    notebook-6.4.6             |     pyha770c72_0         6.2 MB  conda-forge\n",
      "    pandoc-2.16.1              |       h7f98852_0        12.6 MB  conda-forge\n",
      "    pandocfilters-1.5.0        |     pyhd8ed1ab_0          11 KB  conda-forge\n",
      "    prometheus_client-0.12.0   |     pyhd8ed1ab_0          47 KB  conda-forge\n",
      "    pyrsistent-0.18.0          |   py37h5e8e339_0          90 KB  conda-forge\n",
      "    send2trash-1.8.0           |     pyhd8ed1ab_0          17 KB  conda-forge\n",
      "    sniffio-1.2.0              |   py37h89c1867_2          15 KB  conda-forge\n",
      "    terminado-0.12.1           |   py37h89c1867_1          28 KB  conda-forge\n",
      "    testpath-0.5.0             |     pyhd8ed1ab_0          86 KB  conda-forge\n",
      "    webencodings-0.5.1         |             py_1          12 KB  conda-forge\n",
      "    websocket-client-1.2.1     |   py37h89c1867_0          71 KB  conda-forge\n",
      "    ------------------------------------------------------------\n",
      "                                           Total:        33.3 MB\n",
      "\n",
      "The following NEW packages will be INSTALLED:\n",
      "\n",
      "  anyio              conda-forge/linux-64::anyio-3.3.4-py37h89c1867_1\n",
      "  argon2-cffi        conda-forge/linux-64::argon2-cffi-21.1.0-py37h5e8e339_2\n",
      "  async_generator    conda-forge/noarch::async_generator-1.10-py_0\n",
      "  attrs              conda-forge/noarch::attrs-21.2.0-pyhd8ed1ab_0\n",
      "  babel              conda-forge/noarch::babel-2.9.1-pyh44b312d_0\n",
      "  bleach             conda-forge/noarch::bleach-4.1.0-pyhd8ed1ab_0\n",
      "  defusedxml         conda-forge/noarch::defusedxml-0.7.1-pyhd8ed1ab_0\n",
      "  importlib_resourc~ conda-forge/noarch::importlib_resources-5.4.0-pyhd8ed1ab_0\n",
      "  json5              conda-forge/noarch::json5-0.9.5-pyh9f0ad1d_0\n",
      "  jsonschema         conda-forge/noarch::jsonschema-4.2.1-pyhd8ed1ab_0\n",
      "  jupyter_server     conda-forge/noarch::jupyter_server-1.11.2-pyhd8ed1ab_0\n",
      "  jupyterlab         conda-forge/noarch::jupyterlab-3.2.4-pyhd8ed1ab_0\n",
      "  jupyterlab_pygmen~ conda-forge/noarch::jupyterlab_pygments-0.1.2-pyh9f0ad1d_0\n",
      "  jupyterlab_server  conda-forge/noarch::jupyterlab_server-2.8.2-pyhd8ed1ab_0\n",
      "  mistune            conda-forge/linux-64::mistune-0.8.4-py37h5e8e339_1005\n",
      "  nbclassic          conda-forge/noarch::nbclassic-0.3.4-pyhd8ed1ab_0\n",
      "  nbclient           conda-forge/noarch::nbclient-0.5.9-pyhd8ed1ab_0\n",
      "  nbconvert          conda-forge/linux-64::nbconvert-6.3.0-py37h89c1867_1\n",
      "  nbformat           conda-forge/noarch::nbformat-5.1.3-pyhd8ed1ab_0\n",
      "  notebook           conda-forge/noarch::notebook-6.4.6-pyha770c72_0\n",
      "  pandoc             conda-forge/linux-64::pandoc-2.16.1-h7f98852_0\n",
      "  pandocfilters      conda-forge/noarch::pandocfilters-1.5.0-pyhd8ed1ab_0\n",
      "  prometheus_client  conda-forge/noarch::prometheus_client-0.12.0-pyhd8ed1ab_0\n",
      "  pyrsistent         conda-forge/linux-64::pyrsistent-0.18.0-py37h5e8e339_0\n",
      "  send2trash         conda-forge/noarch::send2trash-1.8.0-pyhd8ed1ab_0\n",
      "  sniffio            conda-forge/linux-64::sniffio-1.2.0-py37h89c1867_2\n",
      "  terminado          conda-forge/linux-64::terminado-0.12.1-py37h89c1867_1\n",
      "  testpath           conda-forge/noarch::testpath-0.5.0-pyhd8ed1ab_0\n",
      "  webencodings       conda-forge/noarch::webencodings-0.5.1-py_1\n",
      "  websocket-client   conda-forge/linux-64::websocket-client-1.2.1-py37h89c1867_0\n",
      "\n",
      "The following packages will be UPDATED:\n",
      "\n",
      "  ca-certificates                      2021.5.30-ha878542_0 --> 2021.10.8-ha878542_0\n",
      "  certifi                          2021.5.30-py37h89c1867_0 --> 2021.10.8-py37h89c1867_1\n",
      "\n",
      "\n",
      "\n",
      "Downloading and Extracting Packages\n",
      "prometheus_client-0. | 47 KB     | ##################################### | 100% \n",
      "pandoc-2.16.1        | 12.6 MB   | ##################################### | 100% \n",
      "mistune-0.8.4        | 54 KB     | ##################################### | 100% \n",
      "nbformat-5.1.3       | 47 KB     | ##################################### | 100% \n",
      "importlib_resources- | 21 KB     | ##################################### | 100% \n",
      "anyio-3.3.4          | 147 KB    | ##################################### | 100% \n",
      "jupyter_server-1.11. | 257 KB    | ##################################### | 100% \n",
      "terminado-0.12.1     | 28 KB     | ##################################### | 100% \n",
      "jupyterlab-3.2.4     | 6.1 MB    | ##################################### | 100% \n",
      "websocket-client-1.2 | 71 KB     | ##################################### | 100% \n",
      "bleach-4.1.0         | 121 KB    | ##################################### | 100% \n",
      "sniffio-1.2.0        | 15 KB     | ##################################### | 100% \n",
      "pyrsistent-0.18.0    | 90 KB     | ##################################### | 100% \n",
      "testpath-0.5.0       | 86 KB     | ##################################### | 100% \n",
      "nbconvert-6.3.0      | 535 KB    | ##################################### | 100% \n",
      "attrs-21.2.0         | 44 KB     | ##################################### | 100% \n",
      "babel-2.9.1          | 6.2 MB    | ##################################### | 100% \n",
      "notebook-6.4.6       | 6.2 MB    | ##################################### | 100% \n",
      "pandocfilters-1.5.0  | 11 KB     | ##################################### | 100% \n",
      "json5-0.9.5          | 20 KB     | ##################################### | 100% \n",
      "jupyterlab_pygments- | 8 KB      | ##################################### | 100% \n",
      "ca-certificates-2021 | 139 KB    | ##################################### | 100% \n",
      "defusedxml-0.7.1     | 23 KB     | ##################################### | 100% \n",
      "nbclient-0.5.9       | 63 KB     | ##################################### | 100% \n",
      "async_generator-1.10 | 18 KB     | ##################################### | 100% \n",
      "send2trash-1.8.0     | 17 KB     | ##################################### | 100% \n",
      "argon2-cffi-21.1.0   | 46 KB     | ##################################### | 100% \n",
      "nbclassic-0.3.4      | 22 KB     | ##################################### | 100% \n",
      "certifi-2021.10.8    | 145 KB    | ##################################### | 100% \n",
      "webencodings-0.5.1   | 12 KB     | ##################################### | 100% \n",
      "jsonschema-4.2.1     | 118 KB    | ##################################### | 100% \n",
      "jupyterlab_server-2. | 45 KB     | ##################################### | 100% \n",
      "Preparing transaction: done\n",
      "Verifying transaction: done\n",
      "Executing transaction: done\n",
      "\n",
      "Note: you may need to restart the kernel to use updated packages.\n"
     ]
    }
   ],
   "source": [
    "conda install -c conda-forge jupyterlab"
   ]
  },
  {
   "cell_type": "code",
   "execution_count": 7,
   "metadata": {},
   "outputs": [
    {
     "ename": "SyntaxError",
     "evalue": "invalid syntax (4271392973.py, line 1)",
     "output_type": "error",
     "traceback": [
      "\u001b[0;36m  File \u001b[0;32m\"/tmp/ipykernel_69/4271392973.py\"\u001b[0;36m, line \u001b[0;32m1\u001b[0m\n\u001b[0;31m    export PATH=\"$HOME/.local/bin:$PATH\"\u001b[0m\n\u001b[0m              ^\u001b[0m\n\u001b[0;31mSyntaxError\u001b[0m\u001b[0;31m:\u001b[0m invalid syntax\n"
     ]
    }
   ],
   "source": [
    "export PATH=\"$HOME/.local/bin:$PATH\""
   ]
  },
  {
   "cell_type": "code",
   "execution_count": 8,
   "metadata": {},
   "outputs": [
    {
     "name": "stdout",
     "output_type": "stream",
     "text": [
      "Collecting voila\n",
      "  Downloading voila-0.2.16-py3-none-any.whl (1.6 MB)\n",
      "\u001b[K     |████████████████████████████████| 1.6 MB 10.1 MB/s eta 0:00:01\n",
      "\u001b[?25hRequirement already satisfied: jupyter-server<2.0.0,>=0.3.0 in /home/jupyterlab/conda/envs/python/lib/python3.7/site-packages (from voila) (1.11.2)\n",
      "Requirement already satisfied: nbclient<0.6,>=0.4.0 in /home/jupyterlab/conda/envs/python/lib/python3.7/site-packages (from voila) (0.5.9)\n",
      "Requirement already satisfied: nbconvert<7,>=6.0.0 in /home/jupyterlab/conda/envs/python/lib/python3.7/site-packages (from voila) (6.3.0)\n",
      "Collecting jupyter-client<7,>=6.1.3\n",
      "  Downloading jupyter_client-6.1.12-py3-none-any.whl (112 kB)\n",
      "\u001b[K     |████████████████████████████████| 112 kB 69.8 MB/s eta 0:00:01\n",
      "\u001b[?25hRequirement already satisfied: traitlets in /home/jupyterlab/conda/envs/python/lib/python3.7/site-packages (from jupyter-client<7,>=6.1.3->voila) (5.1.0)\n",
      "Requirement already satisfied: jupyter-core>=4.6.0 in /home/jupyterlab/conda/envs/python/lib/python3.7/site-packages (from jupyter-client<7,>=6.1.3->voila) (4.8.1)\n",
      "Requirement already satisfied: python-dateutil>=2.1 in /home/jupyterlab/conda/envs/python/lib/python3.7/site-packages (from jupyter-client<7,>=6.1.3->voila) (2.8.2)\n",
      "Requirement already satisfied: tornado>=4.1 in /home/jupyterlab/conda/envs/python/lib/python3.7/site-packages (from jupyter-client<7,>=6.1.3->voila) (6.1)\n",
      "Requirement already satisfied: pyzmq>=13 in /home/jupyterlab/conda/envs/python/lib/python3.7/site-packages (from jupyter-client<7,>=6.1.3->voila) (22.3.0)\n",
      "Requirement already satisfied: prometheus-client in /home/jupyterlab/conda/envs/python/lib/python3.7/site-packages (from jupyter-server<2.0.0,>=0.3.0->voila) (0.12.0)\n",
      "Requirement already satisfied: anyio<4,>=3.1.0 in /home/jupyterlab/conda/envs/python/lib/python3.7/site-packages (from jupyter-server<2.0.0,>=0.3.0->voila) (3.3.4)\n",
      "Requirement already satisfied: jinja2 in /home/jupyterlab/conda/envs/python/lib/python3.7/site-packages (from jupyter-server<2.0.0,>=0.3.0->voila) (3.0.1)\n",
      "Requirement already satisfied: ipython-genutils in /home/jupyterlab/conda/envs/python/lib/python3.7/site-packages (from jupyter-server<2.0.0,>=0.3.0->voila) (0.2.0)\n",
      "Requirement already satisfied: websocket-client in /home/jupyterlab/conda/envs/python/lib/python3.7/site-packages (from jupyter-server<2.0.0,>=0.3.0->voila) (1.2.1)\n",
      "Requirement already satisfied: nbformat in /home/jupyterlab/conda/envs/python/lib/python3.7/site-packages (from jupyter-server<2.0.0,>=0.3.0->voila) (5.1.3)\n",
      "Requirement already satisfied: argon2-cffi in /home/jupyterlab/conda/envs/python/lib/python3.7/site-packages (from jupyter-server<2.0.0,>=0.3.0->voila) (21.1.0)\n",
      "Requirement already satisfied: Send2Trash in /home/jupyterlab/conda/envs/python/lib/python3.7/site-packages (from jupyter-server<2.0.0,>=0.3.0->voila) (1.8.0)\n",
      "Requirement already satisfied: terminado>=0.8.3 in /home/jupyterlab/conda/envs/python/lib/python3.7/site-packages (from jupyter-server<2.0.0,>=0.3.0->voila) (0.12.1)\n",
      "Requirement already satisfied: typing-extensions in /home/jupyterlab/conda/envs/python/lib/python3.7/site-packages (from anyio<4,>=3.1.0->jupyter-server<2.0.0,>=0.3.0->voila) (3.10.0.2)\n",
      "Requirement already satisfied: idna>=2.8 in /home/jupyterlab/conda/envs/python/lib/python3.7/site-packages (from anyio<4,>=3.1.0->jupyter-server<2.0.0,>=0.3.0->voila) (3.1)\n",
      "Requirement already satisfied: sniffio>=1.1 in /home/jupyterlab/conda/envs/python/lib/python3.7/site-packages (from anyio<4,>=3.1.0->jupyter-server<2.0.0,>=0.3.0->voila) (1.2.0)\n",
      "Requirement already satisfied: nest-asyncio in /home/jupyterlab/conda/envs/python/lib/python3.7/site-packages (from nbclient<0.6,>=0.4.0->voila) (1.5.1)\n",
      "Requirement already satisfied: pandocfilters>=1.4.1 in /home/jupyterlab/conda/envs/python/lib/python3.7/site-packages (from nbconvert<7,>=6.0.0->voila) (1.5.0)\n",
      "Requirement already satisfied: entrypoints>=0.2.2 in /home/jupyterlab/conda/envs/python/lib/python3.7/site-packages (from nbconvert<7,>=6.0.0->voila) (0.3)\n",
      "Requirement already satisfied: defusedxml in /home/jupyterlab/conda/envs/python/lib/python3.7/site-packages (from nbconvert<7,>=6.0.0->voila) (0.7.1)\n",
      "Requirement already satisfied: jupyterlab-pygments in /home/jupyterlab/conda/envs/python/lib/python3.7/site-packages (from nbconvert<7,>=6.0.0->voila) (0.1.2)\n",
      "Requirement already satisfied: testpath in /home/jupyterlab/conda/envs/python/lib/python3.7/site-packages (from nbconvert<7,>=6.0.0->voila) (0.5.0)\n",
      "Requirement already satisfied: pygments>=2.4.1 in /home/jupyterlab/conda/envs/python/lib/python3.7/site-packages (from nbconvert<7,>=6.0.0->voila) (2.10.0)\n",
      "Requirement already satisfied: bleach in /home/jupyterlab/conda/envs/python/lib/python3.7/site-packages (from nbconvert<7,>=6.0.0->voila) (4.1.0)\n",
      "Requirement already satisfied: mistune<2,>=0.8.1 in /home/jupyterlab/conda/envs/python/lib/python3.7/site-packages (from nbconvert<7,>=6.0.0->voila) (0.8.4)\n",
      "Requirement already satisfied: MarkupSafe>=2.0 in /home/jupyterlab/conda/envs/python/lib/python3.7/site-packages (from jinja2->jupyter-server<2.0.0,>=0.3.0->voila) (2.0.1)\n",
      "Requirement already satisfied: jsonschema!=2.5.0,>=2.4 in /home/jupyterlab/conda/envs/python/lib/python3.7/site-packages (from nbformat->jupyter-server<2.0.0,>=0.3.0->voila) (4.2.1)\n",
      "Requirement already satisfied: attrs>=17.4.0 in /home/jupyterlab/conda/envs/python/lib/python3.7/site-packages (from jsonschema!=2.5.0,>=2.4->nbformat->jupyter-server<2.0.0,>=0.3.0->voila) (21.2.0)\n",
      "Requirement already satisfied: importlib-metadata in /home/jupyterlab/conda/envs/python/lib/python3.7/site-packages (from jsonschema!=2.5.0,>=2.4->nbformat->jupyter-server<2.0.0,>=0.3.0->voila) (4.8.1)\n",
      "Requirement already satisfied: importlib-resources>=1.4.0 in /home/jupyterlab/conda/envs/python/lib/python3.7/site-packages (from jsonschema!=2.5.0,>=2.4->nbformat->jupyter-server<2.0.0,>=0.3.0->voila) (5.4.0)\n",
      "Requirement already satisfied: pyrsistent!=0.17.0,!=0.17.1,!=0.17.2,>=0.14.0 in /home/jupyterlab/conda/envs/python/lib/python3.7/site-packages (from jsonschema!=2.5.0,>=2.4->nbformat->jupyter-server<2.0.0,>=0.3.0->voila) (0.18.0)\n",
      "Requirement already satisfied: zipp>=3.1.0 in /home/jupyterlab/conda/envs/python/lib/python3.7/site-packages (from importlib-resources>=1.4.0->jsonschema!=2.5.0,>=2.4->nbformat->jupyter-server<2.0.0,>=0.3.0->voila) (3.5.0)\n",
      "Requirement already satisfied: six>=1.5 in /home/jupyterlab/conda/envs/python/lib/python3.7/site-packages (from python-dateutil>=2.1->jupyter-client<7,>=6.1.3->voila) (1.16.0)\n",
      "Requirement already satisfied: ptyprocess in /home/jupyterlab/conda/envs/python/lib/python3.7/site-packages (from terminado>=0.8.3->jupyter-server<2.0.0,>=0.3.0->voila) (0.7.0)\n",
      "Requirement already satisfied: cffi>=1.0.0 in /home/jupyterlab/conda/envs/python/lib/python3.7/site-packages (from argon2-cffi->jupyter-server<2.0.0,>=0.3.0->voila) (1.14.6)\n",
      "Requirement already satisfied: pycparser in /home/jupyterlab/conda/envs/python/lib/python3.7/site-packages (from cffi>=1.0.0->argon2-cffi->jupyter-server<2.0.0,>=0.3.0->voila) (2.20)\n",
      "Requirement already satisfied: packaging in /home/jupyterlab/conda/envs/python/lib/python3.7/site-packages (from bleach->nbconvert<7,>=6.0.0->voila) (21.0)\n",
      "Requirement already satisfied: webencodings in /home/jupyterlab/conda/envs/python/lib/python3.7/site-packages (from bleach->nbconvert<7,>=6.0.0->voila) (0.5.1)\n",
      "Requirement already satisfied: pyparsing>=2.0.2 in /home/jupyterlab/conda/envs/python/lib/python3.7/site-packages (from packaging->bleach->nbconvert<7,>=6.0.0->voila) (2.4.7)\n",
      "Installing collected packages: jupyter-client, voila\n",
      "  Attempting uninstall: jupyter-client\n",
      "    Found existing installation: jupyter-client 7.0.3\n",
      "    Uninstalling jupyter-client-7.0.3:\n",
      "      Successfully uninstalled jupyter-client-7.0.3\n",
      "Successfully installed jupyter-client-6.1.12 voila-0.2.16\n",
      "Note: you may need to restart the kernel to use updated packages.\n"
     ]
    }
   ],
   "source": [
    "pip install voila"
   ]
  },
  {
   "cell_type": "code",
   "execution_count": null,
   "metadata": {},
   "outputs": [],
   "source": []
  }
 ],
 "metadata": {
  "kernelspec": {
   "display_name": "Python",
   "language": "python",
   "name": "conda-env-python-py"
  },
  "language_info": {
   "codemirror_mode": {
    "name": "ipython",
    "version": 3
   },
   "file_extension": ".py",
   "mimetype": "text/x-python",
   "name": "python",
   "nbconvert_exporter": "python",
   "pygments_lexer": "ipython3",
   "version": "3.7.10"
  }
 },
 "nbformat": 4,
 "nbformat_minor": 4
}
